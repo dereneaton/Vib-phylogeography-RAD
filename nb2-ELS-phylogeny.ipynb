{
 "cells": [
  {
   "cell_type": "code",
   "execution_count": 1,
   "metadata": {
    "collapsed": false
   },
   "outputs": [
    {
     "name": "stdout",
     "output_type": "stream",
     "text": [
      "ipyrad v.0.4.9\n",
      "ipyparallel v.5.2.0\n",
      "numpy v.1.11.2\n"
     ]
    }
   ],
   "source": [
    "## import basic modules and ipyrad\n",
    "import os\n",
    "import socket\n",
    "import glob\n",
    "import subprocess as sps\n",
    "import numpy as np\n",
    "import ipyparallel as ipp\n",
    "import ipyrad as ip\n",
    "\n",
    "## print versions \n",
    "print \"ipyrad v.{}\".format(ip.__version__)\n",
    "print \"ipyparallel v.{}\".format(ipp.__version__)\n",
    "print \"numpy v.{}\".format(np.__version__)"
   ]
  },
  {
   "cell_type": "code",
   "execution_count": 3,
   "metadata": {
    "collapsed": false
   },
   "outputs": [
    {
     "name": "stdout",
     "output_type": "stream",
     "text": [
      "  loading Assembly: min10_c90d6f2h5\n",
      "  from saved path: /ysm-gpfs/scratch60/de243/dentatum-ELS-RAD/c90d6f2h5/min10_c90d6f2h5.json\n"
     ]
    }
   ],
   "source": [
    "## load assembly\n",
    "min10 = ip.load_json(\"/ysm-gpfs/scratch60/de243/dentatum-ELS-RAD/c90d6f2h5/min10_c90d6f2h5.json\")"
   ]
  },
  {
   "cell_type": "code",
   "execution_count": null,
   "metadata": {
    "collapsed": true
   },
   "outputs": [],
   "source": [
    "## make raxml dir\n",
    "RAXDIR = os.path.join(os.curdir, \"analysis_raxml\")\n",
    "RAXDIR = os.path.realpath(RAXDIR)\n",
    "if not os.path.exists(RAXDIR):\n",
    "    os.mkdir(RAXDIR)\n",
    "\n",
    "## get path to louise' system-wide raxml\n",
    "LORAX = \"/home2/de243/miniconda2/bin/raxmlHPC-PTHREADS\"\n",
    "\n",
    "## set outgroup string... shoot I forgot outgroups.\n",
    "OUT = \",\".join([])\n",
    "    \n",
    "## set up arguments\n",
    "cmd = [LORAX,\n",
    "        \"-f\", \"a\", \n",
    "        \"-m\", \"GTRGAMMA\", \n",
    "        \"-N\", \"100\", \n",
    "        \"-T\", \"16\", \n",
    "        \"-x\", \"12345\", \n",
    "        \"-p\", \"54321\",\n",
    "        \"-w\", RAXDIR,\n",
    "        \"-n\", min10.name, \n",
    "        \"-s\", min10.outfiles.loci[:-5]+'.phy']\n",
    "        #\"-o\", OUT, \n",
    "        \n",
    "## send to process as non-blocking job\n",
    "#raxjob = sps.Popen(cmd, stderr=sps.PIPE, stdout=sps.PIPE)\n",
    "cmdstring = \" \".join(cmd)\n",
    "! "
   ]
  }
 ],
 "metadata": {
  "kernelspec": {
   "display_name": "Python [conda root]",
   "language": "python",
   "name": "conda-root-py"
  },
  "language_info": {
   "codemirror_mode": {
    "name": "ipython",
    "version": 2
   },
   "file_extension": ".py",
   "mimetype": "text/x-python",
   "name": "python",
   "nbconvert_exporter": "python",
   "pygments_lexer": "ipython2",
   "version": "2.7.12"
  }
 },
 "nbformat": 4,
 "nbformat_minor": 1
}
